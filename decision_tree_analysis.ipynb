{
 "cells": [
  {
   "cell_type": "markdown",
   "metadata": {},
   "source": [
    "# Análsis con árboles de decisiones\n",
    "\n",
    "##### Autores\n",
    "* Diego Valenziuela, 22309\n",
    "* Gerson Ramírez, 22281\n"
   ]
  }
 ],
 "metadata": {
  "language_info": {
   "name": "python"
  }
 },
 "nbformat": 4,
 "nbformat_minor": 2
}
