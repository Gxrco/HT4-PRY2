{
 "cells": [
  {
   "cell_type": "markdown",
   "metadata": {},
   "source": [
    "# Análsis con árboles de decisiones\n",
    "\n",
    "##### Autores\n",
    "* Diego Valenziuela, 22309\n",
    "* Gerson Ramírez, 22281\n"
   ]
  },
  {
   "cell_type": "code",
   "execution_count": 5,
   "metadata": {},
   "outputs": [],
   "source": [
    "import pandas as pd\n",
    "import numpy as np\n",
    "import matplotlib.pyplot as plt\n",
    "from sklearn.model_selection import train_test_split\n",
    "from sklearn.tree import DecisionTreeRegressor\n",
    "from sklearn.metrics import mean_squared_error, r2_score"
   ]
  },
  {
   "cell_type": "markdown",
   "metadata": {},
   "source": [
    "## Análisis de regresiones con árboles\n",
    "Una vez preparado el conjunto de datos para su análisis, donde se han definidio ciertas categorías según el precio y se ha normalizado la data para lograr procesar toda la regresión con la mayor cantidad de información diponible y útil.\n",
    "\n",
    "En este paso se cargan los datos preparados previamente, se separan claramente las variables predictoras (X) y las variables objetivo (tanto para regresión como clasificación), y se realiza la división en conjuntos de entrenamiento y prueba usando una proporción estándar de 80% entrenamiento y 20% prueba. Esto es crucial para evaluar adecuadamente la capacidad predictiva y evitar sobreajuste del modelo."
   ]
  },
  {
   "cell_type": "code",
   "execution_count": 2,
   "metadata": {},
   "outputs": [
    {
     "name": "stdout",
     "output_type": "stream",
     "text": [
      "Regresión:\n",
      "X_reg_train: (1168, 74)\n",
      "X_reg_test: (292, 74)\n",
      "y_reg_train: (1168,)\n",
      "y_reg_test: (292,)\n",
      "\n",
      "Clasificación:\n",
      "X_clf_train: (1168, 74)\n",
      "X_clf_test: (292, 74)\n",
      "y_clf_train: (1168,)\n",
      "y_clf_test: (292,)\n"
     ]
    }
   ],
   "source": [
    "df = pd.read_csv(\"processed_data.csv\")\n",
    "\n",
    "# Separar características (X) y variables objetivo (y) para regresión y clasificación\n",
    "X_reg = df.drop(['SalePrice', 'PriceCategory', 'Id'], axis=1)\n",
    "y_reg = df['SalePrice']\n",
    "\n",
    "X_clf = df.drop(['SalePrice', 'PriceCategory', 'Id'], axis=1)\n",
    "y_clf = df['PriceCategory']\n",
    "\n",
    "# Crear conjuntos de entrenamiento y prueba (80% entrenamiento, 20% prueba)\n",
    "X_reg_train, X_reg_test, y_reg_train, y_reg_test = train_test_split(\n",
    "    X_reg, y_reg, test_size=0.2, random_state=42)\n",
    "\n",
    "X_clf_train, X_clf_test, y_clf_train, y_clf_test = train_test_split(\n",
    "    X_clf, y_clf, test_size=0.2, random_state=42)\n",
    "\n",
    "# Verificar la dimensión de los conjuntos generados\n",
    "print(\"Regresión:\")\n",
    "print(\"X_reg_train:\", X_reg_train.shape)\n",
    "print(\"X_reg_test:\", X_reg_test.shape)\n",
    "print(\"y_reg_train:\", y_reg_train.shape)\n",
    "print(\"y_reg_test:\", y_reg_test.shape)\n",
    "\n",
    "print(\"\\nClasificación:\")\n",
    "print(\"X_clf_train:\", X_clf_train.shape)\n",
    "print(\"X_clf_test:\", X_clf_test.shape)\n",
    "print(\"y_clf_train:\", y_clf_train.shape)\n",
    "print(\"y_clf_test:\", y_clf_test.shape)"
   ]
  },
  {
   "cell_type": "markdown",
   "metadata": {},
   "source": [
    "### Verificación de la regresión y separación de datos\n",
    "\n",
    "En este paso estamos entrenando un árbol de decisión para regresión usando todas las variables disponibles, con configuración predeterminada. Tras entrenarlo, evaluamos su desempeño utilizando:\n",
    "\n",
    "Error cuadrático medio (MSE): Indica la diferencia cuadrática promedio entre las predicciones y valores reales.\n",
    "Raíz del error cuadrático medio (RMSE): Facilita la interpretación en las mismas unidades que la variable objetivo.\n",
    "Coeficiente de determinación (R²): Mide qué tan bien se ajustan las predicciones al valor real."
   ]
  },
  {
   "cell_type": "code",
   "execution_count": 6,
   "metadata": {},
   "outputs": [
    {
     "name": "stdout",
     "output_type": "stream",
     "text": [
      "Evaluación del Árbol de Regresión:\n",
      "MSE: 1747613673.71\n",
      "RMSE: 41804.47\n",
      "R²: 0.7722\n"
     ]
    }
   ],
   "source": [
    "tree_regressor = DecisionTreeRegressor(random_state=42)\n",
    "tree_regressor.fit(X_reg_train, y_reg_train)\n",
    "\n",
    "y_reg_pred = tree_regressor.predict(X_reg_test)\n",
    "\n",
    "mse = mean_squared_error(y_reg_test, y_reg_pred)\n",
    "rmse = np.sqrt(mse)\n",
    "r2 = r2_score(y_reg_test, y_reg_pred)\n",
    "\n",
    "print(\"Evaluación del Árbol de Regresión:\")\n",
    "print(f\"MSE: {mse:.2f}\")\n",
    "print(f\"RMSE: {rmse:.2f}\")\n",
    "print(f\"R²: {r2:.4f}\")"
   ]
  },
  {
   "cell_type": "markdown",
   "metadata": {},
   "source": [
    "#### Mean Squared Error (MSE): 1,747,613,673.71\n",
    "El error cuadrático medio es relativamente alto en términos absolutos, pero es común en problemas de regresión sobre precios altos (en este caso, viviendas). Esto significa que, en promedio, hay una diferencia significativa entre los valores reales y los predichos cuando se considera la escala absoluta.\n",
    "#### Root Mean Squared Error (RMSE): 41,804.47\n",
    "La raíz cuadrada del error cuadrático medio es aproximadamente $41,804, indicando que en promedio las predicciones del precio de venta están desviadas de los valores reales por esta cantidad. Considerando que el promedio del precio de venta es alrededor de $180,921, este error promedio representa aproximadamente el 23% del valor promedio, lo que es aceptable pero indica que existe un margen considerable para mejorar.\n",
    "#### Coeficiente de Determinación (R²): 0.7722\n",
    "Este valor indica que el modelo explica aproximadamente el 77.22% de la variabilidad observada en los precios de las casas. Un valor de R² cercano a 1 indica que el modelo se ajusta bien a los datos, por lo que un valor de 0.7722 indica un buen ajuste, aunque existe todavía espacio para mejoras."
   ]
  }
 ],
 "metadata": {
  "kernelspec": {
   "display_name": "venv",
   "language": "python",
   "name": "python3"
  },
  "language_info": {
   "codemirror_mode": {
    "name": "ipython",
    "version": 3
   },
   "file_extension": ".py",
   "mimetype": "text/x-python",
   "name": "python",
   "nbconvert_exporter": "python",
   "pygments_lexer": "ipython3",
   "version": "3.13.0"
  }
 },
 "nbformat": 4,
 "nbformat_minor": 2
}
